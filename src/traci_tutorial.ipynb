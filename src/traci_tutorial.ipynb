{
 "cells": [
  {
   "cell_type": "markdown",
   "metadata": {},
   "source": [
    "# Traci tutorial\n",
    "\n",
    "在对SUMO有了初步了解之后，在本教程中，我们介绍如何使用Python+Traci来控制SUMO仿真并进行二次开发。\n",
    "\n",
    "TraCI（Traffic Control Interface）是 SUMO 提供的一个接口，允许用户在仿真运行时与仿真环境进行交互。通过 TraCI，用户可以实时控制和监控仿真中的车辆、交通信号、行人等元素，实现动态的仿真控制和数据采集。\n",
    "\n",
    "TraCI 的主要功能包括：\n",
    "\n",
    "- 实时控制：用户可以通过 TraCI 接口实时控制仿真中的车辆行为，如改变车辆的速度、路径、加速度等。\n",
    "- 数据采集：用户可以实时获取仿真中的各种数据，如车辆位置、速度、加速度、交通信号状态等。\n",
    "- 动态调整：用户可以在仿真运行过程中动态调整仿真参数，如交通信号控制策略、车辆路径规划策略等。\n",
    "- 扩展性：TraCI 接口支持用户自定义扩展，可以根据具体需求添加新的控制命令和数据采集功能。\n",
    "\n",
    "TraCI本身包含在SUMO的安装包中，但为了能够在Python环境中调用，需要做一些适应性调整。\n",
    "\n",
    "在conda虚拟环境中加入引用路径（推荐）：\n",
    "\n",
    "- 进入SUMO 安装目录复制`tools`路径：\n",
    "![sumo path](../SUMO_path.png)\n",
    "- 在conda安装目录中找到所使用虚拟环境的`Lib/site-packages`路径：\n",
    "![conda path](../env_path.png)\n",
    "- 在此目录中新建一个`traci.pth`文件：\n",
    "![traci.pth](../traci_path.png)"
   ]
  },
  {
   "cell_type": "markdown",
   "metadata": {},
   "source": [
    "完成后，可通过以下代码块验证是否成功导入"
   ]
  },
  {
   "cell_type": "code",
   "execution_count": 1,
   "metadata": {},
   "outputs": [],
   "source": [
    "import os\n",
    "import sys\n",
    "import traci\n",
    "\n",
    "if 'SUMO_HOME' in os.environ:\n",
    "    tools = os.path.join(os.environ['SUMO_HOME'], 'tools')\n",
    "    sys.path.append(tools)\n",
    "else:\n",
    "    sys.exit(\"please declare environment variable 'SUMO_HOME'\") \n",
    "    "
   ]
  },
  {
   "cell_type": "code",
   "execution_count": 2,
   "metadata": {},
   "outputs": [
    {
     "data": {
      "text/plain": [
       "'/opt/homebrew/opt/sumo/share/sumo'"
      ]
     },
     "execution_count": 2,
     "metadata": {},
     "output_type": "execute_result"
    }
   ],
   "source": [
    "import os\n",
    "os.environ['SUMO_HOME']"
   ]
  },
  {
   "cell_type": "markdown",
   "metadata": {},
   "source": [
    "## 代码文件架构\n",
    "\n",
    "### `data`文件夹\n",
    "\n",
    "- `*.net.xml`: 路网文件，每条边长1km，路权相同\n",
    "- `*.rou.xml`: 车辆路径文件，共包含8条route，每条车道均可执行或右转\n",
    "- `*.sumocfg`：仿真配置文件\n",
    "\n",
    "### `out`文件夹\n",
    "\n",
    "输出结果的目录\n",
    "\n",
    "### `src`文件夹\n",
    "\n",
    "- `config.yaml`：配置文件，注意`veh_safe_mode`被设为了32，即关闭了SUMO提供的所有安全功能，车辆不会主动减速避免碰撞，或在路口前停车等待\n",
    "- `vehicle.py`：管理添加到仿真的所有车辆\n",
    "- `passing_order.py`：管理通行次序，判断次序是否需要调整\n",
    "- `reporting.py`：一些评价指标\n",
    "- `main.py`：主代码"
   ]
  }
 ],
 "metadata": {
  "kernelspec": {
   "display_name": "base",
   "language": "python",
   "name": "python3"
  },
  "language_info": {
   "codemirror_mode": {
    "name": "ipython",
    "version": 3
   },
   "file_extension": ".py",
   "mimetype": "text/x-python",
   "name": "python",
   "nbconvert_exporter": "python",
   "pygments_lexer": "ipython3",
   "version": "3.11.5"
  }
 },
 "nbformat": 4,
 "nbformat_minor": 2
}
